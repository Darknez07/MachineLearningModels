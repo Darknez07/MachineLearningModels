{
 "cells": [
  {
   "cell_type": "markdown",
   "metadata": {
    "colab_type": "text",
    "id": "1fziHl7Ar94J"
   },
   "source": [
    "# Apriori"
   ]
  },
  {
   "cell_type": "code",
   "execution_count": 8,
   "metadata": {
    "scrolled": true
   },
   "outputs": [],
   "source": [
    "# !pip install efficient-apriori"
   ]
  },
  {
   "cell_type": "markdown",
   "metadata": {
    "colab_type": "text",
    "id": "eiNwni1xsEgT"
   },
   "source": [
    "## Importing the libraries"
   ]
  },
  {
   "cell_type": "code",
   "execution_count": 75,
   "metadata": {},
   "outputs": [],
   "source": [
    "import pandas as pd\n",
    "import numpy as np\n",
    "import matplotlib.pyplot as plt"
   ]
  },
  {
   "cell_type": "markdown",
   "metadata": {
    "colab_type": "text",
    "id": "vLt-7XUKsXBd"
   },
   "source": [
    "## Data Preprocessing"
   ]
  },
  {
   "cell_type": "code",
   "execution_count": 76,
   "metadata": {},
   "outputs": [],
   "source": [
    "dataset = pd.read_csv('Market_Basket_Optimisation.csv', header = None)\n",
    "dataset = dataset.fillna(0)\n",
    "data = []\n",
    "for i in range(dataset.shape[0]):\n",
    "    data.append([])\n",
    "    for item  in dataset.iloc[i,:]:\n",
    "        if item != 0:\n",
    "            data[i].append(str(item))\n",
    "    data[i] = tuple(data[i])"
   ]
  },
  {
   "cell_type": "markdown",
   "metadata": {
    "colab_type": "text",
    "id": "1wYZdBd5sea_"
   },
   "source": [
    "## Training the Apriori model on the dataset"
   ]
  },
  {
   "cell_type": "code",
   "execution_count": 77,
   "metadata": {},
   "outputs": [],
   "source": [
    "from efficient_apriori import apriori\n",
    "itemset, rules = apriori(transactions=data, min_support=0.0028,\n",
    "                         min_confidence = 0.2,max_length= 3)"
   ]
  },
  {
   "cell_type": "markdown",
   "metadata": {
    "colab_type": "text",
    "id": "b176YNwWspiO"
   },
   "source": [
    "# Making a result matrix"
   ]
  },
  {
   "cell_type": "code",
   "execution_count": 78,
   "metadata": {},
   "outputs": [],
   "source": [
    "result = []\n",
    "for row in rules:\n",
    "    result.append([row.lhs, row.rhs, row.confidence, row.support, row.lift])"
   ]
  },
  {
   "cell_type": "markdown",
   "metadata": {
    "colab_type": "text",
    "id": "iO6bF_dImT-E"
   },
   "source": [
    "### Data frame of Result Matrix"
   ]
  },
  {
   "cell_type": "code",
   "execution_count": 79,
   "metadata": {},
   "outputs": [],
   "source": [
    "rulesresult = pd.DataFrame(data= result, columns=['lhs', 'rhs', 'conf', 'support', 'lift'])"
   ]
  },
  {
   "cell_type": "markdown",
   "metadata": {
    "colab_type": "text",
    "id": "MFkQP-fcjDBC"
   },
   "source": [
    "### Display first 10 of dataframe"
   ]
  },
  {
   "cell_type": "code",
   "execution_count": 80,
   "metadata": {},
   "outputs": [
    {
     "data": {
      "text/html": [
       "<div>\n",
       "<style scoped>\n",
       "    .dataframe tbody tr th:only-of-type {\n",
       "        vertical-align: middle;\n",
       "    }\n",
       "\n",
       "    .dataframe tbody tr th {\n",
       "        vertical-align: top;\n",
       "    }\n",
       "\n",
       "    .dataframe thead th {\n",
       "        text-align: right;\n",
       "    }\n",
       "</style>\n",
       "<table border=\"1\" class=\"dataframe\">\n",
       "  <thead>\n",
       "    <tr style=\"text-align: right;\">\n",
       "      <th></th>\n",
       "      <th>lhs</th>\n",
       "      <th>rhs</th>\n",
       "      <th>conf</th>\n",
       "      <th>support</th>\n",
       "      <th>lift</th>\n",
       "    </tr>\n",
       "  </thead>\n",
       "  <tbody>\n",
       "    <tr>\n",
       "      <th>0</th>\n",
       "      <td>(almonds,)</td>\n",
       "      <td>(green tea,)</td>\n",
       "      <td>0.248366</td>\n",
       "      <td>0.005066</td>\n",
       "      <td>1.879913</td>\n",
       "    </tr>\n",
       "    <tr>\n",
       "      <th>1</th>\n",
       "      <td>(almonds,)</td>\n",
       "      <td>(mineral water,)</td>\n",
       "      <td>0.372549</td>\n",
       "      <td>0.007599</td>\n",
       "      <td>1.562914</td>\n",
       "    </tr>\n",
       "    <tr>\n",
       "      <th>2</th>\n",
       "      <td>(avocado,)</td>\n",
       "      <td>(mineral water,)</td>\n",
       "      <td>0.348000</td>\n",
       "      <td>0.011598</td>\n",
       "      <td>1.459926</td>\n",
       "    </tr>\n",
       "    <tr>\n",
       "      <th>3</th>\n",
       "      <td>(cottage cheese,)</td>\n",
       "      <td>(green tea,)</td>\n",
       "      <td>0.200837</td>\n",
       "      <td>0.006399</td>\n",
       "      <td>1.520158</td>\n",
       "    </tr>\n",
       "    <tr>\n",
       "      <th>4</th>\n",
       "      <td>(cottage cheese,)</td>\n",
       "      <td>(mineral water,)</td>\n",
       "      <td>0.301255</td>\n",
       "      <td>0.009599</td>\n",
       "      <td>1.263823</td>\n",
       "    </tr>\n",
       "    <tr>\n",
       "      <th>5</th>\n",
       "      <td>(energy drink,)</td>\n",
       "      <td>(mineral water,)</td>\n",
       "      <td>0.210000</td>\n",
       "      <td>0.005599</td>\n",
       "      <td>0.880990</td>\n",
       "    </tr>\n",
       "    <tr>\n",
       "      <th>6</th>\n",
       "      <td>(frozen smoothie,)</td>\n",
       "      <td>(mineral water,)</td>\n",
       "      <td>0.320000</td>\n",
       "      <td>0.020264</td>\n",
       "      <td>1.342461</td>\n",
       "    </tr>\n",
       "    <tr>\n",
       "      <th>7</th>\n",
       "      <td>(green grapes,)</td>\n",
       "      <td>(mineral water,)</td>\n",
       "      <td>0.352941</td>\n",
       "      <td>0.003200</td>\n",
       "      <td>1.480655</td>\n",
       "    </tr>\n",
       "    <tr>\n",
       "      <th>8</th>\n",
       "      <td>(green tea,)</td>\n",
       "      <td>(mineral water,)</td>\n",
       "      <td>0.235116</td>\n",
       "      <td>0.031063</td>\n",
       "      <td>0.986357</td>\n",
       "    </tr>\n",
       "    <tr>\n",
       "      <th>9</th>\n",
       "      <td>(tomato juice,)</td>\n",
       "      <td>(green tea,)</td>\n",
       "      <td>0.206140</td>\n",
       "      <td>0.006266</td>\n",
       "      <td>1.560301</td>\n",
       "    </tr>\n",
       "  </tbody>\n",
       "</table>\n",
       "</div>"
      ],
      "text/plain": [
       "                  lhs               rhs      conf   support      lift\n",
       "0          (almonds,)      (green tea,)  0.248366  0.005066  1.879913\n",
       "1          (almonds,)  (mineral water,)  0.372549  0.007599  1.562914\n",
       "2          (avocado,)  (mineral water,)  0.348000  0.011598  1.459926\n",
       "3   (cottage cheese,)      (green tea,)  0.200837  0.006399  1.520158\n",
       "4   (cottage cheese,)  (mineral water,)  0.301255  0.009599  1.263823\n",
       "5     (energy drink,)  (mineral water,)  0.210000  0.005599  0.880990\n",
       "6  (frozen smoothie,)  (mineral water,)  0.320000  0.020264  1.342461\n",
       "7     (green grapes,)  (mineral water,)  0.352941  0.003200  1.480655\n",
       "8        (green tea,)  (mineral water,)  0.235116  0.031063  0.986357\n",
       "9     (tomato juice,)      (green tea,)  0.206140  0.006266  1.560301"
      ]
     },
     "execution_count": 80,
     "metadata": {},
     "output_type": "execute_result"
    }
   ],
   "source": [
    "rulesresult.head(10)"
   ]
  },
  {
   "cell_type": "markdown",
   "metadata": {
    "colab_type": "text",
    "id": "Pfn-G1eAjjLz"
   },
   "source": [
    "### Displaying the results non sorted"
   ]
  },
  {
   "cell_type": "code",
   "execution_count": 81,
   "metadata": {},
   "outputs": [
    {
     "data": {
      "text/html": [
       "<div>\n",
       "<style scoped>\n",
       "    .dataframe tbody tr th:only-of-type {\n",
       "        vertical-align: middle;\n",
       "    }\n",
       "\n",
       "    .dataframe tbody tr th {\n",
       "        vertical-align: top;\n",
       "    }\n",
       "\n",
       "    .dataframe thead th {\n",
       "        text-align: right;\n",
       "    }\n",
       "</style>\n",
       "<table border=\"1\" class=\"dataframe\">\n",
       "  <thead>\n",
       "    <tr style=\"text-align: right;\">\n",
       "      <th></th>\n",
       "      <th>lhs</th>\n",
       "      <th>rhs</th>\n",
       "      <th>conf</th>\n",
       "      <th>support</th>\n",
       "      <th>lift</th>\n",
       "    </tr>\n",
       "  </thead>\n",
       "  <tbody>\n",
       "    <tr>\n",
       "      <th>0</th>\n",
       "      <td>(almonds,)</td>\n",
       "      <td>(green tea,)</td>\n",
       "      <td>0.248366</td>\n",
       "      <td>0.005066</td>\n",
       "      <td>1.879913</td>\n",
       "    </tr>\n",
       "    <tr>\n",
       "      <th>1</th>\n",
       "      <td>(almonds,)</td>\n",
       "      <td>(mineral water,)</td>\n",
       "      <td>0.372549</td>\n",
       "      <td>0.007599</td>\n",
       "      <td>1.562914</td>\n",
       "    </tr>\n",
       "    <tr>\n",
       "      <th>2</th>\n",
       "      <td>(avocado,)</td>\n",
       "      <td>(mineral water,)</td>\n",
       "      <td>0.348000</td>\n",
       "      <td>0.011598</td>\n",
       "      <td>1.459926</td>\n",
       "    </tr>\n",
       "    <tr>\n",
       "      <th>3</th>\n",
       "      <td>(cottage cheese,)</td>\n",
       "      <td>(green tea,)</td>\n",
       "      <td>0.200837</td>\n",
       "      <td>0.006399</td>\n",
       "      <td>1.520158</td>\n",
       "    </tr>\n",
       "    <tr>\n",
       "      <th>4</th>\n",
       "      <td>(cottage cheese,)</td>\n",
       "      <td>(mineral water,)</td>\n",
       "      <td>0.301255</td>\n",
       "      <td>0.009599</td>\n",
       "      <td>1.263823</td>\n",
       "    </tr>\n",
       "    <tr>\n",
       "      <th>...</th>\n",
       "      <td>...</td>\n",
       "      <td>...</td>\n",
       "      <td>...</td>\n",
       "      <td>...</td>\n",
       "      <td>...</td>\n",
       "    </tr>\n",
       "    <tr>\n",
       "      <th>1262</th>\n",
       "      <td>(honey, mineral water)</td>\n",
       "      <td>(milk,)</td>\n",
       "      <td>0.221239</td>\n",
       "      <td>0.003333</td>\n",
       "      <td>1.707318</td>\n",
       "    </tr>\n",
       "    <tr>\n",
       "      <th>1263</th>\n",
       "      <td>(honey, milk)</td>\n",
       "      <td>(mineral water,)</td>\n",
       "      <td>0.431034</td>\n",
       "      <td>0.003333</td>\n",
       "      <td>1.808272</td>\n",
       "    </tr>\n",
       "    <tr>\n",
       "      <th>1264</th>\n",
       "      <td>(low fat yogurt, milk)</td>\n",
       "      <td>(ground beef,)</td>\n",
       "      <td>0.232323</td>\n",
       "      <td>0.003066</td>\n",
       "      <td>2.364527</td>\n",
       "    </tr>\n",
       "    <tr>\n",
       "      <th>1265</th>\n",
       "      <td>(ground beef, low fat yogurt)</td>\n",
       "      <td>(milk,)</td>\n",
       "      <td>0.319444</td>\n",
       "      <td>0.003066</td>\n",
       "      <td>2.465178</td>\n",
       "    </tr>\n",
       "    <tr>\n",
       "      <th>1266</th>\n",
       "      <td>(shrimp, tomatoes)</td>\n",
       "      <td>(mineral water,)</td>\n",
       "      <td>0.261905</td>\n",
       "      <td>0.002933</td>\n",
       "      <td>1.098740</td>\n",
       "    </tr>\n",
       "  </tbody>\n",
       "</table>\n",
       "<p>1267 rows × 5 columns</p>\n",
       "</div>"
      ],
      "text/plain": [
       "                                lhs               rhs      conf   support  \\\n",
       "0                        (almonds,)      (green tea,)  0.248366  0.005066   \n",
       "1                        (almonds,)  (mineral water,)  0.372549  0.007599   \n",
       "2                        (avocado,)  (mineral water,)  0.348000  0.011598   \n",
       "3                 (cottage cheese,)      (green tea,)  0.200837  0.006399   \n",
       "4                 (cottage cheese,)  (mineral water,)  0.301255  0.009599   \n",
       "...                             ...               ...       ...       ...   \n",
       "1262         (honey, mineral water)           (milk,)  0.221239  0.003333   \n",
       "1263                  (honey, milk)  (mineral water,)  0.431034  0.003333   \n",
       "1264         (low fat yogurt, milk)    (ground beef,)  0.232323  0.003066   \n",
       "1265  (ground beef, low fat yogurt)           (milk,)  0.319444  0.003066   \n",
       "1266             (shrimp, tomatoes)  (mineral water,)  0.261905  0.002933   \n",
       "\n",
       "          lift  \n",
       "0     1.879913  \n",
       "1     1.562914  \n",
       "2     1.459926  \n",
       "3     1.520158  \n",
       "4     1.263823  \n",
       "...        ...  \n",
       "1262  1.707318  \n",
       "1263  1.808272  \n",
       "1264  2.364527  \n",
       "1265  2.465178  \n",
       "1266  1.098740  \n",
       "\n",
       "[1267 rows x 5 columns]"
      ]
     },
     "execution_count": 81,
     "metadata": {},
     "output_type": "execute_result"
    }
   ],
   "source": [
    "rulesresult"
   ]
  },
  {
   "cell_type": "markdown",
   "metadata": {
    "colab_type": "text",
    "id": "IjrrlYW4jpTR"
   },
   "source": [
    "### Displaying the results sorted by descending lifts"
   ]
  },
  {
   "cell_type": "code",
   "execution_count": 94,
   "metadata": {},
   "outputs": [
    {
     "data": {
      "text/html": [
       "<div>\n",
       "<style scoped>\n",
       "    .dataframe tbody tr th:only-of-type {\n",
       "        vertical-align: middle;\n",
       "    }\n",
       "\n",
       "    .dataframe tbody tr th {\n",
       "        vertical-align: top;\n",
       "    }\n",
       "\n",
       "    .dataframe thead th {\n",
       "        text-align: right;\n",
       "    }\n",
       "</style>\n",
       "<table border=\"1\" class=\"dataframe\">\n",
       "  <thead>\n",
       "    <tr style=\"text-align: right;\">\n",
       "      <th></th>\n",
       "      <th>lhs</th>\n",
       "      <th>rhs</th>\n",
       "      <th>conf</th>\n",
       "      <th>support</th>\n",
       "      <th>lift</th>\n",
       "    </tr>\n",
       "  </thead>\n",
       "  <tbody>\n",
       "    <tr>\n",
       "      <th>998</th>\n",
       "      <td>(mineral water, whole wheat pasta)</td>\n",
       "      <td>(olive oil,)</td>\n",
       "      <td>0.402778</td>\n",
       "      <td>0.003866</td>\n",
       "      <td>6.115863</td>\n",
       "    </tr>\n",
       "    <tr>\n",
       "      <th>683</th>\n",
       "      <td>(tomato sauce,)</td>\n",
       "      <td>(ground beef, spaghetti)</td>\n",
       "      <td>0.216981</td>\n",
       "      <td>0.003066</td>\n",
       "      <td>5.535971</td>\n",
       "    </tr>\n",
       "    <tr>\n",
       "      <th>1128</th>\n",
       "      <td>(ground beef, shrimp)</td>\n",
       "      <td>(herb &amp; pepper,)</td>\n",
       "      <td>0.255814</td>\n",
       "      <td>0.002933</td>\n",
       "      <td>5.172131</td>\n",
       "    </tr>\n",
       "    <tr>\n",
       "      <th>241</th>\n",
       "      <td>(fromage blanc,)</td>\n",
       "      <td>(honey,)</td>\n",
       "      <td>0.245098</td>\n",
       "      <td>0.003333</td>\n",
       "      <td>5.164271</td>\n",
       "    </tr>\n",
       "    <tr>\n",
       "      <th>681</th>\n",
       "      <td>(spaghetti, tomato sauce)</td>\n",
       "      <td>(ground beef,)</td>\n",
       "      <td>0.489362</td>\n",
       "      <td>0.003066</td>\n",
       "      <td>4.980600</td>\n",
       "    </tr>\n",
       "    <tr>\n",
       "      <th>282</th>\n",
       "      <td>(light cream,)</td>\n",
       "      <td>(chicken,)</td>\n",
       "      <td>0.290598</td>\n",
       "      <td>0.004533</td>\n",
       "      <td>4.843951</td>\n",
       "    </tr>\n",
       "    <tr>\n",
       "      <th>244</th>\n",
       "      <td>(pasta,)</td>\n",
       "      <td>(escalope,)</td>\n",
       "      <td>0.372881</td>\n",
       "      <td>0.005866</td>\n",
       "      <td>4.700812</td>\n",
       "    </tr>\n",
       "    <tr>\n",
       "      <th>1067</th>\n",
       "      <td>(french fries, herb &amp; pepper)</td>\n",
       "      <td>(ground beef,)</td>\n",
       "      <td>0.461538</td>\n",
       "      <td>0.003200</td>\n",
       "      <td>4.697422</td>\n",
       "    </tr>\n",
       "    <tr>\n",
       "      <th>1040</th>\n",
       "      <td>(cereals, spaghetti)</td>\n",
       "      <td>(ground beef,)</td>\n",
       "      <td>0.460000</td>\n",
       "      <td>0.003066</td>\n",
       "      <td>4.681764</td>\n",
       "    </tr>\n",
       "    <tr>\n",
       "      <th>1068</th>\n",
       "      <td>(french fries, ground beef)</td>\n",
       "      <td>(herb &amp; pepper,)</td>\n",
       "      <td>0.230769</td>\n",
       "      <td>0.003200</td>\n",
       "      <td>4.665768</td>\n",
       "    </tr>\n",
       "  </tbody>\n",
       "</table>\n",
       "</div>"
      ],
      "text/plain": [
       "                                     lhs                       rhs      conf  \\\n",
       "998   (mineral water, whole wheat pasta)              (olive oil,)  0.402778   \n",
       "683                      (tomato sauce,)  (ground beef, spaghetti)  0.216981   \n",
       "1128               (ground beef, shrimp)          (herb & pepper,)  0.255814   \n",
       "241                     (fromage blanc,)                  (honey,)  0.245098   \n",
       "681            (spaghetti, tomato sauce)            (ground beef,)  0.489362   \n",
       "282                       (light cream,)                (chicken,)  0.290598   \n",
       "244                             (pasta,)               (escalope,)  0.372881   \n",
       "1067       (french fries, herb & pepper)            (ground beef,)  0.461538   \n",
       "1040                (cereals, spaghetti)            (ground beef,)  0.460000   \n",
       "1068         (french fries, ground beef)          (herb & pepper,)  0.230769   \n",
       "\n",
       "       support      lift  \n",
       "998   0.003866  6.115863  \n",
       "683   0.003066  5.535971  \n",
       "1128  0.002933  5.172131  \n",
       "241   0.003333  5.164271  \n",
       "681   0.003066  4.980600  \n",
       "282   0.004533  4.843951  \n",
       "244   0.005866  4.700812  \n",
       "1067  0.003200  4.697422  \n",
       "1040  0.003066  4.681764  \n",
       "1068  0.003200  4.665768  "
      ]
     },
     "execution_count": 94,
     "metadata": {},
     "output_type": "execute_result"
    }
   ],
   "source": [
    "rulesresult.sort_values('lift',ascending=False).head(10)"
   ]
  }
 ],
 "metadata": {
  "colab": {
   "collapsed_sections": [],
   "name": "apriori.ipynb",
   "provenance": [],
   "toc_visible": true
  },
  "kernelspec": {
   "display_name": "Python 3",
   "language": "python",
   "name": "python3"
  },
  "language_info": {
   "codemirror_mode": {
    "name": "ipython",
    "version": 3
   },
   "file_extension": ".py",
   "mimetype": "text/x-python",
   "name": "python",
   "nbconvert_exporter": "python",
   "pygments_lexer": "ipython3",
   "version": "3.8.3"
  }
 },
 "nbformat": 4,
 "nbformat_minor": 1
}
