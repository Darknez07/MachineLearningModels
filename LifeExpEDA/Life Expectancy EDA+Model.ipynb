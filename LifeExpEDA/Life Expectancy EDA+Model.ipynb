{
 "cells": [
  {
   "cell_type": "code",
   "execution_count": 423,
   "metadata": {},
   "outputs": [],
   "source": [
    "import pandas as pd\n",
    "import numpy as np\n",
    "import matplotlib.pyplot as plt"
   ]
  },
  {
   "cell_type": "code",
   "execution_count": 424,
   "metadata": {},
   "outputs": [],
   "source": [
    "life_data = pd.read_csv('Life Expectancy Data.csv')"
   ]
  },
  {
   "cell_type": "code",
   "execution_count": 425,
   "metadata": {},
   "outputs": [
    {
     "data": {
      "text/html": [
       "<div>\n",
       "<style scoped>\n",
       "    .dataframe tbody tr th:only-of-type {\n",
       "        vertical-align: middle;\n",
       "    }\n",
       "\n",
       "    .dataframe tbody tr th {\n",
       "        vertical-align: top;\n",
       "    }\n",
       "\n",
       "    .dataframe thead th {\n",
       "        text-align: right;\n",
       "    }\n",
       "</style>\n",
       "<table border=\"1\" class=\"dataframe\">\n",
       "  <thead>\n",
       "    <tr style=\"text-align: right;\">\n",
       "      <th></th>\n",
       "      <th>Year</th>\n",
       "      <th>Life expectancy</th>\n",
       "      <th>Adult Mortality</th>\n",
       "      <th>infant deaths</th>\n",
       "      <th>Alcohol</th>\n",
       "      <th>percentage expenditure</th>\n",
       "      <th>Hepatitis B</th>\n",
       "      <th>Measles</th>\n",
       "      <th>BMI</th>\n",
       "      <th>under-five deaths</th>\n",
       "      <th>Polio</th>\n",
       "      <th>Total expenditure</th>\n",
       "      <th>Diphtheria</th>\n",
       "      <th>HIV/AIDS</th>\n",
       "      <th>GDP</th>\n",
       "      <th>Population</th>\n",
       "      <th>thinness  1-19 years</th>\n",
       "      <th>thinness 5-9 years</th>\n",
       "      <th>Income composition of resources</th>\n",
       "      <th>Schooling</th>\n",
       "    </tr>\n",
       "  </thead>\n",
       "  <tbody>\n",
       "    <tr>\n",
       "      <th>count</th>\n",
       "      <td>2938.00</td>\n",
       "      <td>2928.00</td>\n",
       "      <td>2928.00</td>\n",
       "      <td>2938.00</td>\n",
       "      <td>2744.00</td>\n",
       "      <td>2938.00</td>\n",
       "      <td>2385.00</td>\n",
       "      <td>2938.00</td>\n",
       "      <td>2904.00</td>\n",
       "      <td>2938.00</td>\n",
       "      <td>2919.00</td>\n",
       "      <td>2712.00</td>\n",
       "      <td>2919.00</td>\n",
       "      <td>2938.00</td>\n",
       "      <td>2490.00</td>\n",
       "      <td>2286.00</td>\n",
       "      <td>2904.00</td>\n",
       "      <td>2904.00</td>\n",
       "      <td>2771.00</td>\n",
       "      <td>2775.00</td>\n",
       "    </tr>\n",
       "    <tr>\n",
       "      <th>mean</th>\n",
       "      <td>2007.52</td>\n",
       "      <td>69.22</td>\n",
       "      <td>164.80</td>\n",
       "      <td>30.30</td>\n",
       "      <td>4.60</td>\n",
       "      <td>738.25</td>\n",
       "      <td>80.94</td>\n",
       "      <td>2419.59</td>\n",
       "      <td>38.32</td>\n",
       "      <td>42.04</td>\n",
       "      <td>82.55</td>\n",
       "      <td>5.94</td>\n",
       "      <td>82.32</td>\n",
       "      <td>1.74</td>\n",
       "      <td>7483.16</td>\n",
       "      <td>12753375.12</td>\n",
       "      <td>4.84</td>\n",
       "      <td>4.87</td>\n",
       "      <td>0.63</td>\n",
       "      <td>11.99</td>\n",
       "    </tr>\n",
       "    <tr>\n",
       "      <th>std</th>\n",
       "      <td>4.61</td>\n",
       "      <td>9.52</td>\n",
       "      <td>124.29</td>\n",
       "      <td>117.93</td>\n",
       "      <td>4.05</td>\n",
       "      <td>1987.91</td>\n",
       "      <td>25.07</td>\n",
       "      <td>11467.27</td>\n",
       "      <td>20.04</td>\n",
       "      <td>160.45</td>\n",
       "      <td>23.43</td>\n",
       "      <td>2.50</td>\n",
       "      <td>23.72</td>\n",
       "      <td>5.08</td>\n",
       "      <td>14270.17</td>\n",
       "      <td>61012096.51</td>\n",
       "      <td>4.42</td>\n",
       "      <td>4.51</td>\n",
       "      <td>0.21</td>\n",
       "      <td>3.36</td>\n",
       "    </tr>\n",
       "    <tr>\n",
       "      <th>min</th>\n",
       "      <td>2000.00</td>\n",
       "      <td>36.30</td>\n",
       "      <td>1.00</td>\n",
       "      <td>0.00</td>\n",
       "      <td>0.01</td>\n",
       "      <td>0.00</td>\n",
       "      <td>1.00</td>\n",
       "      <td>0.00</td>\n",
       "      <td>1.00</td>\n",
       "      <td>0.00</td>\n",
       "      <td>3.00</td>\n",
       "      <td>0.37</td>\n",
       "      <td>2.00</td>\n",
       "      <td>0.10</td>\n",
       "      <td>1.68</td>\n",
       "      <td>34.00</td>\n",
       "      <td>0.10</td>\n",
       "      <td>0.10</td>\n",
       "      <td>0.00</td>\n",
       "      <td>0.00</td>\n",
       "    </tr>\n",
       "    <tr>\n",
       "      <th>25%</th>\n",
       "      <td>2004.00</td>\n",
       "      <td>63.10</td>\n",
       "      <td>74.00</td>\n",
       "      <td>0.00</td>\n",
       "      <td>0.88</td>\n",
       "      <td>4.69</td>\n",
       "      <td>77.00</td>\n",
       "      <td>0.00</td>\n",
       "      <td>19.30</td>\n",
       "      <td>0.00</td>\n",
       "      <td>78.00</td>\n",
       "      <td>4.26</td>\n",
       "      <td>78.00</td>\n",
       "      <td>0.10</td>\n",
       "      <td>463.94</td>\n",
       "      <td>195793.25</td>\n",
       "      <td>1.60</td>\n",
       "      <td>1.50</td>\n",
       "      <td>0.49</td>\n",
       "      <td>10.10</td>\n",
       "    </tr>\n",
       "    <tr>\n",
       "      <th>50%</th>\n",
       "      <td>2008.00</td>\n",
       "      <td>72.10</td>\n",
       "      <td>144.00</td>\n",
       "      <td>3.00</td>\n",
       "      <td>3.75</td>\n",
       "      <td>64.91</td>\n",
       "      <td>92.00</td>\n",
       "      <td>17.00</td>\n",
       "      <td>43.50</td>\n",
       "      <td>4.00</td>\n",
       "      <td>93.00</td>\n",
       "      <td>5.75</td>\n",
       "      <td>93.00</td>\n",
       "      <td>0.10</td>\n",
       "      <td>1766.95</td>\n",
       "      <td>1386542.00</td>\n",
       "      <td>3.30</td>\n",
       "      <td>3.30</td>\n",
       "      <td>0.68</td>\n",
       "      <td>12.30</td>\n",
       "    </tr>\n",
       "    <tr>\n",
       "      <th>75%</th>\n",
       "      <td>2012.00</td>\n",
       "      <td>75.70</td>\n",
       "      <td>228.00</td>\n",
       "      <td>22.00</td>\n",
       "      <td>7.70</td>\n",
       "      <td>441.53</td>\n",
       "      <td>97.00</td>\n",
       "      <td>360.25</td>\n",
       "      <td>56.20</td>\n",
       "      <td>28.00</td>\n",
       "      <td>97.00</td>\n",
       "      <td>7.49</td>\n",
       "      <td>97.00</td>\n",
       "      <td>0.80</td>\n",
       "      <td>5910.81</td>\n",
       "      <td>7420359.00</td>\n",
       "      <td>7.20</td>\n",
       "      <td>7.20</td>\n",
       "      <td>0.78</td>\n",
       "      <td>14.30</td>\n",
       "    </tr>\n",
       "    <tr>\n",
       "      <th>max</th>\n",
       "      <td>2015.00</td>\n",
       "      <td>89.00</td>\n",
       "      <td>723.00</td>\n",
       "      <td>1800.00</td>\n",
       "      <td>17.87</td>\n",
       "      <td>19479.91</td>\n",
       "      <td>99.00</td>\n",
       "      <td>212183.00</td>\n",
       "      <td>87.30</td>\n",
       "      <td>2500.00</td>\n",
       "      <td>99.00</td>\n",
       "      <td>17.60</td>\n",
       "      <td>99.00</td>\n",
       "      <td>50.60</td>\n",
       "      <td>119172.74</td>\n",
       "      <td>1293859294.00</td>\n",
       "      <td>27.70</td>\n",
       "      <td>28.60</td>\n",
       "      <td>0.95</td>\n",
       "      <td>20.70</td>\n",
       "    </tr>\n",
       "  </tbody>\n",
       "</table>\n",
       "</div>"
      ],
      "text/plain": [
       "         Year  Life expectancy   Adult Mortality  infant deaths  Alcohol  \\\n",
       "count 2938.00           2928.00          2928.00        2938.00  2744.00   \n",
       "mean  2007.52             69.22           164.80          30.30     4.60   \n",
       "std      4.61              9.52           124.29         117.93     4.05   \n",
       "min   2000.00             36.30             1.00           0.00     0.01   \n",
       "25%   2004.00             63.10            74.00           0.00     0.88   \n",
       "50%   2008.00             72.10           144.00           3.00     3.75   \n",
       "75%   2012.00             75.70           228.00          22.00     7.70   \n",
       "max   2015.00             89.00           723.00        1800.00    17.87   \n",
       "\n",
       "       percentage expenditure  Hepatitis B  Measles     BMI   \\\n",
       "count                 2938.00      2385.00   2938.00 2904.00   \n",
       "mean                   738.25        80.94   2419.59   38.32   \n",
       "std                   1987.91        25.07  11467.27   20.04   \n",
       "min                      0.00         1.00      0.00    1.00   \n",
       "25%                      4.69        77.00      0.00   19.30   \n",
       "50%                     64.91        92.00     17.00   43.50   \n",
       "75%                    441.53        97.00    360.25   56.20   \n",
       "max                  19479.91        99.00 212183.00   87.30   \n",
       "\n",
       "       under-five deaths    Polio  Total expenditure  Diphtheria    HIV/AIDS  \\\n",
       "count             2938.00 2919.00            2712.00      2919.00    2938.00   \n",
       "mean                42.04   82.55               5.94        82.32       1.74   \n",
       "std                160.45   23.43               2.50        23.72       5.08   \n",
       "min                  0.00    3.00               0.37         2.00       0.10   \n",
       "25%                  0.00   78.00               4.26        78.00       0.10   \n",
       "50%                  4.00   93.00               5.75        93.00       0.10   \n",
       "75%                 28.00   97.00               7.49        97.00       0.80   \n",
       "max               2500.00   99.00              17.60        99.00      50.60   \n",
       "\n",
       "            GDP    Population   thinness  1-19 years   thinness 5-9 years  \\\n",
       "count   2490.00       2286.00                2904.00              2904.00   \n",
       "mean    7483.16   12753375.12                   4.84                 4.87   \n",
       "std    14270.17   61012096.51                   4.42                 4.51   \n",
       "min        1.68         34.00                   0.10                 0.10   \n",
       "25%      463.94     195793.25                   1.60                 1.50   \n",
       "50%     1766.95    1386542.00                   3.30                 3.30   \n",
       "75%     5910.81    7420359.00                   7.20                 7.20   \n",
       "max   119172.74 1293859294.00                  27.70                28.60   \n",
       "\n",
       "       Income composition of resources  Schooling  \n",
       "count                          2771.00    2775.00  \n",
       "mean                              0.63      11.99  \n",
       "std                               0.21       3.36  \n",
       "min                               0.00       0.00  \n",
       "25%                               0.49      10.10  \n",
       "50%                               0.68      12.30  \n",
       "75%                               0.78      14.30  \n",
       "max                               0.95      20.70  "
      ]
     },
     "execution_count": 425,
     "metadata": {},
     "output_type": "execute_result"
    }
   ],
   "source": [
    "life_data.describe()"
   ]
  },
  {
   "cell_type": "code",
   "execution_count": 426,
   "metadata": {},
   "outputs": [],
   "source": [
    "strong  = (life_data.corr() > 0.7).values"
   ]
  },
  {
   "cell_type": "code",
   "execution_count": 427,
   "metadata": {},
   "outputs": [],
   "source": [
    "neg_strong = (life_data.corr() < - 0.7).values"
   ]
  },
  {
   "cell_type": "code",
   "execution_count": 428,
   "metadata": {},
   "outputs": [
    {
     "data": {
      "text/plain": [
       "<matplotlib.collections.PathCollection at 0x1a6c0733ac8>"
      ]
     },
     "execution_count": 428,
     "metadata": {},
     "output_type": "execute_result"
    },
    {
     "data": {
      "image/png": "[encoded data removed]",
      "text/plain": [
       "<Figure size 432x288 with 1 Axes>"
      ]
     },
     "metadata": {
      "needs_background": "light"
     },
     "output_type": "display_data"
    }
   ],
   "source": [
    "plt.scatter(life_data.iloc[:, 5],life_data.iloc[:, 14])"
   ]
  },
  {
   "cell_type": "code",
   "execution_count": 429,
   "metadata": {},
   "outputs": [
    {
     "name": "stdout",
     "output_type": "stream",
     "text": [
      "1 18\n",
      "1 19\n",
      "3 9\n",
      "5 14\n",
      "9 3\n",
      "14 5\n",
      "16 17\n",
      "17 16\n",
      "18 1\n",
      "18 19\n",
      "19 1\n",
      "19 18\n"
     ]
    }
   ],
   "source": [
    "for n in range(strong.shape[0]):\n",
    "    for x in range(len(strong[n,:])):\n",
    "        if x!=n:\n",
    "            if strong[n, x] == True:\n",
    "                print(n, x)"
   ]
  },
  {
   "cell_type": "code",
   "execution_count": 430,
   "metadata": {},
   "outputs": [
    {
     "data": {
      "text/html": [
       "<div>\n",
       "<style scoped>\n",
       "    .dataframe tbody tr th:only-of-type {\n",
       "        vertical-align: middle;\n",
       "    }\n",
       "\n",
       "    .dataframe tbody tr th {\n",
       "        vertical-align: top;\n",
       "    }\n",
       "\n",
       "    .dataframe thead th {\n",
       "        text-align: right;\n",
       "    }\n",
       "</style>\n",
       "<table border=\"1\" class=\"dataframe\">\n",
       "  <thead>\n",
       "    <tr style=\"text-align: right;\">\n",
       "      <th></th>\n",
       "      <th>Country</th>\n",
       "      <th>Year</th>\n",
       "      <th>Status</th>\n",
       "      <th>Life expectancy</th>\n",
       "      <th>Adult Mortality</th>\n",
       "      <th>infant deaths</th>\n",
       "      <th>Alcohol</th>\n",
       "      <th>percentage expenditure</th>\n",
       "      <th>Hepatitis B</th>\n",
       "      <th>Measles</th>\n",
       "      <th>...</th>\n",
       "      <th>Polio</th>\n",
       "      <th>Total expenditure</th>\n",
       "      <th>Diphtheria</th>\n",
       "      <th>HIV/AIDS</th>\n",
       "      <th>GDP</th>\n",
       "      <th>Population</th>\n",
       "      <th>thinness  1-19 years</th>\n",
       "      <th>thinness 5-9 years</th>\n",
       "      <th>Income composition of resources</th>\n",
       "      <th>Schooling</th>\n",
       "    </tr>\n",
       "  </thead>\n",
       "  <tbody>\n",
       "    <tr>\n",
       "      <th>0</th>\n",
       "      <td>Afghanistan</td>\n",
       "      <td>2015</td>\n",
       "      <td>Developing</td>\n",
       "      <td>65.00</td>\n",
       "      <td>263.00</td>\n",
       "      <td>62</td>\n",
       "      <td>0.01</td>\n",
       "      <td>71.28</td>\n",
       "      <td>65.00</td>\n",
       "      <td>1154</td>\n",
       "      <td>...</td>\n",
       "      <td>6.00</td>\n",
       "      <td>8.16</td>\n",
       "      <td>65.00</td>\n",
       "      <td>0.10</td>\n",
       "      <td>584.26</td>\n",
       "      <td>33736494.00</td>\n",
       "      <td>17.20</td>\n",
       "      <td>17.30</td>\n",
       "      <td>0.48</td>\n",
       "      <td>10.10</td>\n",
       "    </tr>\n",
       "    <tr>\n",
       "      <th>1</th>\n",
       "      <td>Afghanistan</td>\n",
       "      <td>2014</td>\n",
       "      <td>Developing</td>\n",
       "      <td>59.90</td>\n",
       "      <td>271.00</td>\n",
       "      <td>64</td>\n",
       "      <td>0.01</td>\n",
       "      <td>73.52</td>\n",
       "      <td>62.00</td>\n",
       "      <td>492</td>\n",
       "      <td>...</td>\n",
       "      <td>58.00</td>\n",
       "      <td>8.18</td>\n",
       "      <td>62.00</td>\n",
       "      <td>0.10</td>\n",
       "      <td>612.70</td>\n",
       "      <td>327582.00</td>\n",
       "      <td>17.50</td>\n",
       "      <td>17.50</td>\n",
       "      <td>0.48</td>\n",
       "      <td>10.00</td>\n",
       "    </tr>\n",
       "    <tr>\n",
       "      <th>2</th>\n",
       "      <td>Afghanistan</td>\n",
       "      <td>2013</td>\n",
       "      <td>Developing</td>\n",
       "      <td>59.90</td>\n",
       "      <td>268.00</td>\n",
       "      <td>66</td>\n",
       "      <td>0.01</td>\n",
       "      <td>73.22</td>\n",
       "      <td>64.00</td>\n",
       "      <td>430</td>\n",
       "      <td>...</td>\n",
       "      <td>62.00</td>\n",
       "      <td>8.13</td>\n",
       "      <td>64.00</td>\n",
       "      <td>0.10</td>\n",
       "      <td>631.74</td>\n",
       "      <td>31731688.00</td>\n",
       "      <td>17.70</td>\n",
       "      <td>17.70</td>\n",
       "      <td>0.47</td>\n",
       "      <td>9.90</td>\n",
       "    </tr>\n",
       "    <tr>\n",
       "      <th>3</th>\n",
       "      <td>Afghanistan</td>\n",
       "      <td>2012</td>\n",
       "      <td>Developing</td>\n",
       "      <td>59.50</td>\n",
       "      <td>272.00</td>\n",
       "      <td>69</td>\n",
       "      <td>0.01</td>\n",
       "      <td>78.18</td>\n",
       "      <td>67.00</td>\n",
       "      <td>2787</td>\n",
       "      <td>...</td>\n",
       "      <td>67.00</td>\n",
       "      <td>8.52</td>\n",
       "      <td>67.00</td>\n",
       "      <td>0.10</td>\n",
       "      <td>669.96</td>\n",
       "      <td>3696958.00</td>\n",
       "      <td>17.90</td>\n",
       "      <td>18.00</td>\n",
       "      <td>0.46</td>\n",
       "      <td>9.80</td>\n",
       "    </tr>\n",
       "    <tr>\n",
       "      <th>4</th>\n",
       "      <td>Afghanistan</td>\n",
       "      <td>2011</td>\n",
       "      <td>Developing</td>\n",
       "      <td>59.20</td>\n",
       "      <td>275.00</td>\n",
       "      <td>71</td>\n",
       "      <td>0.01</td>\n",
       "      <td>7.10</td>\n",
       "      <td>68.00</td>\n",
       "      <td>3013</td>\n",
       "      <td>...</td>\n",
       "      <td>68.00</td>\n",
       "      <td>7.87</td>\n",
       "      <td>68.00</td>\n",
       "      <td>0.10</td>\n",
       "      <td>63.54</td>\n",
       "      <td>2978599.00</td>\n",
       "      <td>18.20</td>\n",
       "      <td>18.20</td>\n",
       "      <td>0.45</td>\n",
       "      <td>9.50</td>\n",
       "    </tr>\n",
       "  </tbody>\n",
       "</table>\n",
       "<p>5 rows × 22 columns</p>\n",
       "</div>"
      ],
      "text/plain": [
       "       Country  Year      Status  Life expectancy   Adult Mortality  \\\n",
       "0  Afghanistan  2015  Developing             65.00           263.00   \n",
       "1  Afghanistan  2014  Developing             59.90           271.00   \n",
       "2  Afghanistan  2013  Developing             59.90           268.00   \n",
       "3  Afghanistan  2012  Developing             59.50           272.00   \n",
       "4  Afghanistan  2011  Developing             59.20           275.00   \n",
       "\n",
       "   infant deaths  Alcohol  percentage expenditure  Hepatitis B  Measles   ...  \\\n",
       "0             62     0.01                   71.28        65.00      1154  ...   \n",
       "1             64     0.01                   73.52        62.00       492  ...   \n",
       "2             66     0.01                   73.22        64.00       430  ...   \n",
       "3             69     0.01                   78.18        67.00      2787  ...   \n",
       "4             71     0.01                    7.10        68.00      3013  ...   \n",
       "\n",
       "   Polio  Total expenditure  Diphtheria    HIV/AIDS    GDP  Population  \\\n",
       "0   6.00               8.16        65.00       0.10 584.26 33736494.00   \n",
       "1  58.00               8.18        62.00       0.10 612.70   327582.00   \n",
       "2  62.00               8.13        64.00       0.10 631.74 31731688.00   \n",
       "3  67.00               8.52        67.00       0.10 669.96  3696958.00   \n",
       "4  68.00               7.87        68.00       0.10  63.54  2978599.00   \n",
       "\n",
       "    thinness  1-19 years   thinness 5-9 years  \\\n",
       "0                  17.20                17.30   \n",
       "1                  17.50                17.50   \n",
       "2                  17.70                17.70   \n",
       "3                  17.90                18.00   \n",
       "4                  18.20                18.20   \n",
       "\n",
       "   Income composition of resources  Schooling  \n",
       "0                             0.48      10.10  \n",
       "1                             0.48      10.00  \n",
       "2                             0.47       9.90  \n",
       "3                             0.46       9.80  \n",
       "4                             0.45       9.50  \n",
       "\n",
       "[5 rows x 22 columns]"
      ]
     },
     "execution_count": 430,
     "metadata": {},
     "output_type": "execute_result"
    }
   ],
   "source": [
    "life_data.head()"
   ]
  },
  {
   "cell_type": "code",
   "execution_count": 431,
   "metadata": {},
   "outputs": [
    {
     "data": {
      "text/plain": [
       "Index(['Country', 'Year', 'Status', 'Life expectancy ', 'Adult Mortality',\n",
       "       'infant deaths', 'Alcohol', 'percentage expenditure', 'Hepatitis B',\n",
       "       'Measles ', ' BMI ', 'under-five deaths ', 'Polio', 'Total expenditure',\n",
       "       'Diphtheria ', ' HIV/AIDS', 'GDP', 'Population',\n",
       "       ' thinness  1-19 years', ' thinness 5-9 years',\n",
       "       'Income composition of resources', 'Schooling'],\n",
       "      dtype='object')"
      ]
     },
     "execution_count": 431,
     "metadata": {},
     "output_type": "execute_result"
    }
   ],
   "source": [
    "life_data.columns"
   ]
  },
  {
   "cell_type": "code",
   "execution_count": 432,
   "metadata": {},
   "outputs": [],
   "source": [
    "country_codes = {x:y for x,y in enumerate(life_data.Country.unique())}"
   ]
  },
  {
   "cell_type": "code",
   "execution_count": 433,
   "metadata": {},
   "outputs": [],
   "source": [
    "dummy_countries = pd.get_dummies(life_data.Country)"
   ]
  },
  {
   "cell_type": "code",
   "execution_count": 434,
   "metadata": {},
   "outputs": [],
   "source": [
    "for d in range(dummy_countries.shape[1]):\n",
    "    life_data.insert(d, country_codes[d], dummy_countries.iloc[:, d])"
   ]
  },
  {
   "cell_type": "code",
   "execution_count": 435,
   "metadata": {},
   "outputs": [
    {
     "data": {
      "text/plain": [
       "(array([193, 195], dtype=int64),)"
      ]
     },
     "execution_count": 435,
     "metadata": {},
     "output_type": "execute_result"
    }
   ],
   "source": [
    "np.where(life_data.dtypes == 'object')"
   ]
  },
  {
   "cell_type": "code",
   "execution_count": 436,
   "metadata": {},
   "outputs": [],
   "source": [
    "ok = {y:x for x, y in enumerate(life_data.Status.unique())}"
   ]
  },
  {
   "cell_type": "code",
   "execution_count": 437,
   "metadata": {},
   "outputs": [
    {
     "data": {
      "text/plain": [
       "{'Developing': 0, 'Developed': 1}"
      ]
     },
     "execution_count": 437,
     "metadata": {},
     "output_type": "execute_result"
    }
   ],
   "source": [
    "ok"
   ]
  },
  {
   "cell_type": "code",
   "execution_count": 438,
   "metadata": {},
   "outputs": [],
   "source": [
    "def encode(n):\n",
    "    return ok[n]"
   ]
  },
  {
   "cell_type": "code",
   "execution_count": 439,
   "metadata": {},
   "outputs": [],
   "source": [
    "life_data.Status  = life_data.Status.apply(encode)"
   ]
  },
  {
   "cell_type": "code",
   "execution_count": 440,
   "metadata": {},
   "outputs": [
    {
     "data": {
      "text/html": [
       "<div>\n",
       "<style scoped>\n",
       "    .dataframe tbody tr th:only-of-type {\n",
       "        vertical-align: middle;\n",
       "    }\n",
       "\n",
       "    .dataframe tbody tr th {\n",
       "        vertical-align: top;\n",
       "    }\n",
       "\n",
       "    .dataframe thead th {\n",
       "        text-align: right;\n",
       "    }\n",
       "</style>\n",
       "<table border=\"1\" class=\"dataframe\">\n",
       "  <thead>\n",
       "    <tr style=\"text-align: right;\">\n",
       "      <th></th>\n",
       "      <th>Afghanistan</th>\n",
       "      <th>Albania</th>\n",
       "      <th>Algeria</th>\n",
       "      <th>Angola</th>\n",
       "      <th>Antigua and Barbuda</th>\n",
       "      <th>Argentina</th>\n",
       "      <th>Armenia</th>\n",
       "      <th>Australia</th>\n",
       "      <th>Austria</th>\n",
       "      <th>Azerbaijan</th>\n",
       "      <th>...</th>\n",
       "      <th>Polio</th>\n",
       "      <th>Total expenditure</th>\n",
       "      <th>Diphtheria</th>\n",
       "      <th>HIV/AIDS</th>\n",
       "      <th>GDP</th>\n",
       "      <th>Population</th>\n",
       "      <th>thinness  1-19 years</th>\n",
       "      <th>thinness 5-9 years</th>\n",
       "      <th>Income composition of resources</th>\n",
       "      <th>Schooling</th>\n",
       "    </tr>\n",
       "  </thead>\n",
       "  <tbody>\n",
       "    <tr>\n",
       "      <th>0</th>\n",
       "      <td>1</td>\n",
       "      <td>0</td>\n",
       "      <td>0</td>\n",
       "      <td>0</td>\n",
       "      <td>0</td>\n",
       "      <td>0</td>\n",
       "      <td>0</td>\n",
       "      <td>0</td>\n",
       "      <td>0</td>\n",
       "      <td>0</td>\n",
       "      <td>...</td>\n",
       "      <td>6.00</td>\n",
       "      <td>8.16</td>\n",
       "      <td>65.00</td>\n",
       "      <td>0.10</td>\n",
       "      <td>584.26</td>\n",
       "      <td>33736494.00</td>\n",
       "      <td>17.20</td>\n",
       "      <td>17.30</td>\n",
       "      <td>0.48</td>\n",
       "      <td>10.10</td>\n",
       "    </tr>\n",
       "    <tr>\n",
       "      <th>1</th>\n",
       "      <td>1</td>\n",
       "      <td>0</td>\n",
       "      <td>0</td>\n",
       "      <td>0</td>\n",
       "      <td>0</td>\n",
       "      <td>0</td>\n",
       "      <td>0</td>\n",
       "      <td>0</td>\n",
       "      <td>0</td>\n",
       "      <td>0</td>\n",
       "      <td>...</td>\n",
       "      <td>58.00</td>\n",
       "      <td>8.18</td>\n",
       "      <td>62.00</td>\n",
       "      <td>0.10</td>\n",
       "      <td>612.70</td>\n",
       "      <td>327582.00</td>\n",
       "      <td>17.50</td>\n",
       "      <td>17.50</td>\n",
       "      <td>0.48</td>\n",
       "      <td>10.00</td>\n",
       "    </tr>\n",
       "    <tr>\n",
       "      <th>2</th>\n",
       "      <td>1</td>\n",
       "      <td>0</td>\n",
       "      <td>0</td>\n",
       "      <td>0</td>\n",
       "      <td>0</td>\n",
       "      <td>0</td>\n",
       "      <td>0</td>\n",
       "      <td>0</td>\n",
       "      <td>0</td>\n",
       "      <td>0</td>\n",
       "      <td>...</td>\n",
       "      <td>62.00</td>\n",
       "      <td>8.13</td>\n",
       "      <td>64.00</td>\n",
       "      <td>0.10</td>\n",
       "      <td>631.74</td>\n",
       "      <td>31731688.00</td>\n",
       "      <td>17.70</td>\n",
       "      <td>17.70</td>\n",
       "      <td>0.47</td>\n",
       "      <td>9.90</td>\n",
       "    </tr>\n",
       "    <tr>\n",
       "      <th>3</th>\n",
       "      <td>1</td>\n",
       "      <td>0</td>\n",
       "      <td>0</td>\n",
       "      <td>0</td>\n",
       "      <td>0</td>\n",
       "      <td>0</td>\n",
       "      <td>0</td>\n",
       "      <td>0</td>\n",
       "      <td>0</td>\n",
       "      <td>0</td>\n",
       "      <td>...</td>\n",
       "      <td>67.00</td>\n",
       "      <td>8.52</td>\n",
       "      <td>67.00</td>\n",
       "      <td>0.10</td>\n",
       "      <td>669.96</td>\n",
       "      <td>3696958.00</td>\n",
       "      <td>17.90</td>\n",
       "      <td>18.00</td>\n",
       "      <td>0.46</td>\n",
       "      <td>9.80</td>\n",
       "    </tr>\n",
       "    <tr>\n",
       "      <th>4</th>\n",
       "      <td>1</td>\n",
       "      <td>0</td>\n",
       "      <td>0</td>\n",
       "      <td>0</td>\n",
       "      <td>0</td>\n",
       "      <td>0</td>\n",
       "      <td>0</td>\n",
       "      <td>0</td>\n",
       "      <td>0</td>\n",
       "      <td>0</td>\n",
       "      <td>...</td>\n",
       "      <td>68.00</td>\n",
       "      <td>7.87</td>\n",
       "      <td>68.00</td>\n",
       "      <td>0.10</td>\n",
       "      <td>63.54</td>\n",
       "      <td>2978599.00</td>\n",
       "      <td>18.20</td>\n",
       "      <td>18.20</td>\n",
       "      <td>0.45</td>\n",
       "      <td>9.50</td>\n",
       "    </tr>\n",
       "  </tbody>\n",
       "</table>\n",
       "<p>5 rows × 215 columns</p>\n",
       "</div>"
      ],
      "text/plain": [
       "   Afghanistan  Albania  Algeria  Angola  Antigua and Barbuda  Argentina  \\\n",
       "0            1        0        0       0                    0          0   \n",
       "1            1        0        0       0                    0          0   \n",
       "2            1        0        0       0                    0          0   \n",
       "3            1        0        0       0                    0          0   \n",
       "4            1        0        0       0                    0          0   \n",
       "\n",
       "   Armenia  Australia  Austria  Azerbaijan  ...  Polio  Total expenditure  \\\n",
       "0        0          0        0           0  ...   6.00               8.16   \n",
       "1        0          0        0           0  ...  58.00               8.18   \n",
       "2        0          0        0           0  ...  62.00               8.13   \n",
       "3        0          0        0           0  ...  67.00               8.52   \n",
       "4        0          0        0           0  ...  68.00               7.87   \n",
       "\n",
       "   Diphtheria    HIV/AIDS    GDP  Population   thinness  1-19 years  \\\n",
       "0        65.00       0.10 584.26 33736494.00                  17.20   \n",
       "1        62.00       0.10 612.70   327582.00                  17.50   \n",
       "2        64.00       0.10 631.74 31731688.00                  17.70   \n",
       "3        67.00       0.10 669.96  3696958.00                  17.90   \n",
       "4        68.00       0.10  63.54  2978599.00                  18.20   \n",
       "\n",
       "    thinness 5-9 years  Income composition of resources  Schooling  \n",
       "0                17.30                             0.48      10.10  \n",
       "1                17.50                             0.48      10.00  \n",
       "2                17.70                             0.47       9.90  \n",
       "3                18.00                             0.46       9.80  \n",
       "4                18.20                             0.45       9.50  \n",
       "\n",
       "[5 rows x 215 columns]"
      ]
     },
     "execution_count": 440,
     "metadata": {},
     "output_type": "execute_result"
    }
   ],
   "source": [
    "life_data.head()"
   ]
  },
  {
   "cell_type": "code",
   "execution_count": 441,
   "metadata": {},
   "outputs": [
    {
     "data": {
      "text/plain": [
       "Index(['Afghanistan', 'Albania', 'Algeria', 'Angola', 'Antigua and Barbuda',\n",
       "       'Argentina', 'Armenia', 'Australia', 'Austria', 'Azerbaijan',\n",
       "       ...\n",
       "       'Polio', 'Total expenditure', 'Diphtheria ', ' HIV/AIDS', 'GDP',\n",
       "       'Population', ' thinness  1-19 years', ' thinness 5-9 years',\n",
       "       'Income composition of resources', 'Schooling'],\n",
       "      dtype='object', length=215)"
      ]
     },
     "execution_count": 441,
     "metadata": {},
     "output_type": "execute_result"
    }
   ],
   "source": [
    "life_data.columns"
   ]
  },
  {
   "cell_type": "code",
   "execution_count": 442,
   "metadata": {},
   "outputs": [
    {
     "data": {
      "text/plain": [
       "4356"
      ]
     },
     "execution_count": 442,
     "metadata": {},
     "output_type": "execute_result"
    }
   ],
   "source": [
    "life_data[life_data[\"Year\"] == 2015][\"infant deaths\"].sum()"
   ]
  },
  {
   "cell_type": "code",
   "execution_count": 443,
   "metadata": {},
   "outputs": [],
   "source": [
    "year_to_deaths = []\n",
    "for x in life_data[\"Year\"].unique():\n",
    "    year_to_deaths.append(life_data[life_data[\"Year\"] == x][\"infant deaths\"].sum())"
   ]
  },
  {
   "cell_type": "code",
   "execution_count": 444,
   "metadata": {},
   "outputs": [
    {
     "data": {
      "image/png": "[encoded data removed]",
      "text/plain": [
       "<Figure size 432x432 with 1 Axes>"
      ]
     },
     "metadata": {
      "needs_background": "light"
     },
     "output_type": "display_data"
    }
   ],
   "source": [
    "plt.figure(figsize=(6,6))\n",
    "plt.bar(life_data.Year.unique(), year_to_deaths)\n",
    "plt.plot(life_data.Year.unique(), year_to_deaths,'-k');\n",
    "plt.xlim(2000.5, 2015.5)\n",
    "plt.xlabel('Year')\n",
    "plt.ylabel('Infant deaths in world')\n",
    "plt.title('Year vs infant Deaths');"
   ]
  },
  {
   "cell_type": "code",
   "execution_count": 445,
   "metadata": {},
   "outputs": [],
   "source": [
    "gdp_growth = []\n",
    "for x in life_data[\"Year\"].unique():\n",
    "    gdp_growth.append(life_data[life_data[\"Year\"] == x][\"GDP\"].mean())"
   ]
  },
  {
   "cell_type": "code",
   "execution_count": 446,
   "metadata": {},
   "outputs": [
    {
     "data": {
      "image/png": "[encoded data removed]",
      "text/plain": [
       "<Figure size 432x432 with 1 Axes>"
      ]
     },
     "metadata": {
      "needs_background": "light"
     },
     "output_type": "display_data"
    }
   ],
   "source": [
    "plt.figure(figsize=(6,6))\n",
    "plt.bar(life_data.Year.unique(), gdp_growth)\n",
    "plt.plot(life_data.Year.unique(), gdp_growth,'-r')\n",
    "plt.xlim(2000.5, 2015.5);\n",
    "plt.xlabel('Year')\n",
    "plt.ylabel('Mean Gdp in Dollars')\n",
    "plt.title('Years vs Mean GDP');"
   ]
  },
  {
   "cell_type": "code",
   "execution_count": 447,
   "metadata": {},
   "outputs": [],
   "source": [
    "life_exp = []\n",
    "for x in life_data[\"Year\"].unique():\n",
    "    life_exp.append(life_data[life_data[\"Year\"] == x][\"Life expectancy \"].mean())"
   ]
  },
  {
   "cell_type": "code",
   "execution_count": 448,
   "metadata": {},
   "outputs": [
    {
     "data": {
      "image/png": "[encoded data removed]",
      "text/plain": [
       "<Figure size 432x432 with 1 Axes>"
      ]
     },
     "metadata": {
      "needs_background": "light"
     },
     "output_type": "display_data"
    }
   ],
   "source": [
    "plt.figure(figsize=(6,6))\n",
    "plt.bar(life_data.Year.unique(), life_exp)\n",
    "plt.plot(life_data.Year.unique(), life_exp,'-r')\n",
    "plt.xlim(2000.5, 2015.5);\n",
    "plt.xlabel('Year')\n",
    "plt.ylabel(\"Mean expentancy\")\n",
    "plt.title(\"Year vs Mean Expectancy\");"
   ]
  },
  {
   "cell_type": "code",
   "execution_count": 449,
   "metadata": {},
   "outputs": [],
   "source": [
    "per_exp = []\n",
    "for x in life_data[\"Year\"].unique():\n",
    "    per_exp.append(life_data[life_data[\"Year\"] == x][\"percentage expenditure\"].mean())"
   ]
  },
  {
   "cell_type": "code",
   "execution_count": 450,
   "metadata": {},
   "outputs": [
    {
     "data": {
      "image/png": "[encoded data removed]",
      "text/plain": [
       "<Figure size 432x432 with 1 Axes>"
      ]
     },
     "metadata": {
      "needs_background": "light"
     },
     "output_type": "display_data"
    }
   ],
   "source": [
    "plt.figure(figsize=(6,6))\n",
    "plt.bar(life_data.Year.unique(), life_exp)\n",
    "plt.plot(life_data.Year.unique(), life_exp,'-r')\n",
    "plt.xlim(2000.5, 2015.5);\n",
    "plt.xlabel('Year')\n",
    "plt.ylabel(\"Mean percentage expenditure\")\n",
    "plt.title(\"Year vs Mean percentage Expenditure\");"
   ]
  },
  {
   "cell_type": "code",
   "execution_count": 451,
   "metadata": {},
   "outputs": [],
   "source": [
    "year_to_deaths = []\n",
    "for x in life_data[\"Year\"].unique():\n",
    "    year_to_deaths.append(life_data.query('Year =={} and Status == 0'.format(x))[\"infant deaths\"].sum())"
   ]
  },
  {
   "cell_type": "code",
   "execution_count": 452,
   "metadata": {},
   "outputs": [
    {
     "data": {
      "image/png": "[encoded data removed]",
      "text/plain": [
       "<Figure size 432x432 with 1 Axes>"
      ]
     },
     "metadata": {
      "needs_background": "light"
     },
     "output_type": "display_data"
    }
   ],
   "source": [
    "plt.figure(figsize=(6,6))\n",
    "plt.bar(life_data.Year.unique(), year_to_deaths)\n",
    "plt.plot(life_data.Year.unique(), year_to_deaths,'-k');\n",
    "plt.xlim(2000.5, 2015.5)\n",
    "plt.xlabel('Year')\n",
    "plt.ylabel('Infant deaths in world')\n",
    "plt.title('Year vs infant Deaths');"
   ]
  },
  {
   "cell_type": "code",
   "execution_count": 453,
   "metadata": {},
   "outputs": [
    {
     "data": {
      "image/png": "[encoded data removed]",
      "text/plain": [
       "<Figure size 432x432 with 1 Axes>"
      ]
     },
     "metadata": {
      "needs_background": "light"
     },
     "output_type": "display_data"
    }
   ],
   "source": [
    "gdp_growth = []\n",
    "for x in life_data[\"Year\"].unique():\n",
    "    gdp_growth.append(life_data.query('Year =={} and Status == 0'.format(x))[\"GDP\"].mean())\n",
    "\n",
    "plt.figure(figsize=(6,6))\n",
    "plt.bar(life_data.Year.unique(), gdp_growth)\n",
    "plt.plot(life_data.Year.unique(), gdp_growth,'-r')\n",
    "plt.xlim(2000.5, 2015.5);\n",
    "plt.xlabel('Year')\n",
    "plt.ylabel('Mean Gdp in Dollars Developing countries')\n",
    "plt.title('Years vs Mean GDP');"
   ]
  },
  {
   "cell_type": "code",
   "execution_count": 454,
   "metadata": {},
   "outputs": [
    {
     "data": {
      "image/png": "[encoded data removed]",
      "text/plain": [
       "<Figure size 432x432 with 1 Axes>"
      ]
     },
     "metadata": {
      "needs_background": "light"
     },
     "output_type": "display_data"
    }
   ],
   "source": [
    "gdp_growth = []\n",
    "for x in life_data[\"Year\"].unique():\n",
    "    gdp_growth.append(life_data.query('Year =={} and Status == 1'.format(x))[\"GDP\"].mean())\n",
    "\n",
    "plt.figure(figsize=(6,6))\n",
    "plt.bar(life_data.Year.unique(), gdp_growth)\n",
    "plt.plot(life_data.Year.unique(), gdp_growth,'-r')\n",
    "plt.xlim(2000.5, 2015.5);\n",
    "plt.xlabel('Year')\n",
    "plt.ylabel('Mean Gdp in Dollars Developed countries')\n",
    "plt.title('Years vs Mean GDP');"
   ]
  },
  {
   "cell_type": "code",
   "execution_count": 455,
   "metadata": {},
   "outputs": [],
   "source": [
    "life_data = life_data.drop(columns=\"Country\")"
   ]
  },
  {
   "cell_type": "code",
   "execution_count": 456,
   "metadata": {},
   "outputs": [],
   "source": [
    "means = np.unique(np.where(life_data.isnull() == True)[1])\n",
    "for x in filler.index:\n",
    "    life_data[x] = life_data[x].fillna(filler[x])"
   ]
  },
  {
   "cell_type": "code",
   "execution_count": 457,
   "metadata": {},
   "outputs": [
    {
     "data": {
      "text/plain": [
       "array([195, 196, 198, 200, 202, 204, 205, 206, 208, 209, 210, 211, 212,\n",
       "       213], dtype=int64)"
      ]
     },
     "execution_count": 457,
     "metadata": {},
     "output_type": "execute_result"
    }
   ],
   "source": [
    "means"
   ]
  },
  {
   "cell_type": "code",
   "execution_count": 458,
   "metadata": {},
   "outputs": [],
   "source": [
    "y = life_data.iloc[:,196]"
   ]
  },
  {
   "cell_type": "code",
   "execution_count": 459,
   "metadata": {},
   "outputs": [],
   "source": [
    "x = life_data.iloc[:, :196].join(life_data.iloc[:, 197:])"
   ]
  },
  {
   "cell_type": "code",
   "execution_count": 460,
   "metadata": {},
   "outputs": [],
   "source": [
    "means = np.unique(np.where(life_data.isnull() == True)[1])"
   ]
  },
  {
   "cell_type": "code",
   "execution_count": 461,
   "metadata": {},
   "outputs": [
    {
     "data": {
      "text/plain": [
       "array([], dtype=int64)"
      ]
     },
     "execution_count": 461,
     "metadata": {},
     "output_type": "execute_result"
    }
   ],
   "source": [
    "means"
   ]
  },
  {
   "cell_type": "code",
   "execution_count": 462,
   "metadata": {},
   "outputs": [],
   "source": [
    "from sklearn.model_selection import train_test_split"
   ]
  },
  {
   "cell_type": "code",
   "execution_count": 463,
   "metadata": {},
   "outputs": [],
   "source": [
    "x_train, x_test, y_train, y_test = train_test_split(x, y, test_size=0.09, random_state=42)"
   ]
  },
  {
   "cell_type": "code",
   "execution_count": 464,
   "metadata": {},
   "outputs": [],
   "source": [
    "from sklearn.ensemble import RandomForestRegressor, AdaBoostRegressor\n",
    "from sklearn.svm import SVR"
   ]
  },
  {
   "cell_type": "code",
   "execution_count": 465,
   "metadata": {},
   "outputs": [],
   "source": [
    "svr = SVR(n_jobs=-1)"
   ]
  },
  {
   "cell_type": "code",
   "execution_count": 466,
   "metadata": {},
   "outputs": [],
   "source": [
    "ada = AdaBoostRegressor(base_estimator=svr,n_estimators=100,learning_rate=0.01)"
   ]
  },
  {
   "cell_type": "code",
   "execution_count": 467,
   "metadata": {},
   "outputs": [],
   "source": [
    "rfr = RandomForestRegressor(n_estimators=200, n_jobs=-1)"
   ]
  },
  {
   "cell_type": "code",
   "execution_count": 468,
   "metadata": {},
   "outputs": [],
   "source": [
    "from sklearn.impute import KNNImputer,SimpleImputer"
   ]
  },
  {
   "cell_type": "code",
   "execution_count": 469,
   "metadata": {},
   "outputs": [],
   "source": [
    "knn = KNNImputer(n_neighbors=3, missing_values=[np.nan, np.float64(np.nan)])"
   ]
  },
  {
   "cell_type": "code",
   "execution_count": 470,
   "metadata": {},
   "outputs": [],
   "source": [
    "pd.options.display.float_format = '{:.2f}'.format"
   ]
  },
  {
   "cell_type": "code",
   "execution_count": 471,
   "metadata": {},
   "outputs": [],
   "source": [
    "filler = life_data.mean(axis=0).iloc[means]"
   ]
  },
  {
   "cell_type": "code",
   "execution_count": 472,
   "metadata": {},
   "outputs": [
    {
     "data": {
      "text/plain": [
       "Index([], dtype='object')"
      ]
     },
     "execution_count": 472,
     "metadata": {},
     "output_type": "execute_result"
    }
   ],
   "source": [
    "filler.index"
   ]
  },
  {
   "cell_type": "code",
   "execution_count": 473,
   "metadata": {},
   "outputs": [],
   "source": [
    "means = np.unique(np.where(x_train.isnull() == True)[1])"
   ]
  },
  {
   "cell_type": "code",
   "execution_count": 474,
   "metadata": {},
   "outputs": [
    {
     "data": {
      "text/plain": [
       "676     False\n",
       "1208    False\n",
       "748     False\n",
       "2302    False\n",
       "2383    False\n",
       "        ...  \n",
       "1638    False\n",
       "1095    False\n",
       "1130    False\n",
       "1294    False\n",
       "860     False\n",
       "Name: Life expectancy , Length: 2673, dtype: bool"
      ]
     },
     "execution_count": 474,
     "metadata": {},
     "output_type": "execute_result"
    }
   ],
   "source": [
    "x_train[\"Life expectancy \"].isnull()"
   ]
  },
  {
   "cell_type": "code",
   "execution_count": 475,
   "metadata": {},
   "outputs": [
    {
     "data": {
      "text/plain": [
       "array([], dtype=int64)"
      ]
     },
     "execution_count": 475,
     "metadata": {},
     "output_type": "execute_result"
    }
   ],
   "source": [
    "means"
   ]
  },
  {
   "cell_type": "code",
   "execution_count": 476,
   "metadata": {},
   "outputs": [
    {
     "data": {
      "text/plain": [
       "RandomForestRegressor(n_estimators=200, n_jobs=-1)"
      ]
     },
     "execution_count": 476,
     "metadata": {},
     "output_type": "execute_result"
    }
   ],
   "source": [
    "rfr.fit(x_train, y_train)"
   ]
  },
  {
   "cell_type": "code",
   "execution_count": 477,
   "metadata": {},
   "outputs": [
    {
     "data": {
      "text/plain": [
       "AdaBoostRegressor(base_estimator=SVR(), learning_rate=0.01, n_estimators=100)"
      ]
     },
     "execution_count": 477,
     "metadata": {},
     "output_type": "execute_result"
    }
   ],
   "source": [
    "ada.fit(x_train, y_train)"
   ]
  },
  {
   "cell_type": "code",
   "execution_count": 478,
   "metadata": {},
   "outputs": [
    {
     "data": {
      "text/plain": [
       "Index(['Afghanistan', 'Albania', 'Algeria', 'Angola', 'Antigua and Barbuda',\n",
       "       'Argentina', 'Armenia', 'Australia', 'Austria', 'Azerbaijan',\n",
       "       ...\n",
       "       'Polio', 'Total expenditure', 'Diphtheria ', ' HIV/AIDS', 'GDP',\n",
       "       'Population', ' thinness  1-19 years', ' thinness 5-9 years',\n",
       "       'Income composition of resources', 'Schooling'],\n",
       "      dtype='object', length=213)"
      ]
     },
     "execution_count": 478,
     "metadata": {},
     "output_type": "execute_result"
    }
   ],
   "source": [
    "x.columns"
   ]
  },
  {
   "cell_type": "code",
   "execution_count": 479,
   "metadata": {},
   "outputs": [
    {
     "data": {
      "text/plain": [
       "array([[[ 0.   ,  0.   ,  0.   , ...,  1.   ,  0.85 , 13.8  ]],\n",
       "\n",
       "       [[ 0.   ,  0.   ,  0.   , ...,  1.6  ,  0.645, 11.7  ]],\n",
       "\n",
       "       [[ 0.   ,  0.   ,  0.   , ...,  1.   ,  0.893, 16.5  ]],\n",
       "\n",
       "       ...,\n",
       "\n",
       "       [[ 0.   ,  0.   ,  0.   , ...,  4.2  ,  0.458,  8.4  ]],\n",
       "\n",
       "       [[ 0.   ,  0.   ,  0.   , ...,  0.5  ,  0.841, 15.4  ]],\n",
       "\n",
       "       [[ 0.   ,  0.   ,  0.   , ...,  9.5  ,  0.   ,  5.4  ]]])"
      ]
     },
     "execution_count": 479,
     "metadata": {},
     "output_type": "execute_result"
    }
   ],
   "source": [
    "knn.fit_transform(x_train)"
   ]
  },
  {
   "cell_type": "code",
   "execution_count": 480,
   "metadata": {},
   "outputs": [],
   "source": [
    "from sklearn.metrics import mean_squared_error as mse"
   ]
  },
  {
   "cell_type": "code",
   "execution_count": 481,
   "metadata": {},
   "outputs": [
    {
     "data": {
      "text/plain": [
       "74.30238756215388"
      ]
     },
     "execution_count": 481,
     "metadata": {},
     "output_type": "execute_result"
    }
   ],
   "source": [
    "mse(y_test, rfr.predict(x_test))**(0.5)"
   ]
  },
  {
   "cell_type": "code",
   "execution_count": 482,
   "metadata": {},
   "outputs": [
    {
     "data": {
      "text/plain": [
       "array([122.365     , 115.93      , 125.005     ,  73.51      ,\n",
       "       387.21      , 325.68      , 108.43898224, 112.355     ,\n",
       "        64.89      , 419.855     , 240.425     , 235.295     ,\n",
       "       251.035     ,  73.465     , 177.22889344, 238.655     ,\n",
       "       234.455     ,  73.535     , 167.945     ,  74.38      ,\n",
       "        54.        ,  55.38      , 148.47      ,  91.675     ,\n",
       "       162.39      , 165.535     , 344.715     , 221.92      ,\n",
       "        56.22      , 114.625     , 167.925     , 113.485     ,\n",
       "        36.37      , 155.245     ,  82.65      , 225.065     ,\n",
       "       276.9       , 138.08898224, 222.87      , 111.945     ,\n",
       "       264.865     , 201.02      ,  78.765     ,  55.305     ,\n",
       "       110.06      , 466.78      ,  67.145     ,  77.22      ,\n",
       "       257.99      , 124.01898224, 287.485     , 165.775     ,\n",
       "        70.03      ,  77.105     ,  89.765     , 284.825     ,\n",
       "       152.84      ,  77.535     , 179.05      ,  97.07      ,\n",
       "        64.565     , 294.595     ,  77.41      , 129.605     ,\n",
       "       227.325     , 466.22      , 368.55      ,  53.235     ,\n",
       "       263.035     ,  69.005     ,  81.875     ,  56.35      ,\n",
       "       113.09      , 281.89      , 198.545     , 230.705     ,\n",
       "       211.27      ,  72.925     , 231.935     , 178.54194672,\n",
       "       231.815     , 207.305     , 261.105     , 170.54      ,\n",
       "       141.24398224,  81.275     ,  32.895     , 204.675     ,\n",
       "       142.875     ,  71.36      , 130.925     , 285.7       ,\n",
       "       123.72      , 114.685     , 127.41      , 166.11398224,\n",
       "        92.94      , 164.13      , 199.00398224, 223.415     ,\n",
       "        57.55      , 298.545     ,  98.06      , 214.305     ,\n",
       "        24.32      ,  63.17      , 160.10168033, 149.41898224,\n",
       "       133.445     , 239.965     , 216.97      , 207.365     ,\n",
       "       455.81      , 128.14      , 163.92      ,  24.965     ,\n",
       "       311.785     , 252.55      , 276.91      , 161.13      ,\n",
       "       155.185     , 166.025     ,  52.46      , 160.735     ,\n",
       "       257.66      , 182.53      ,  91.985     , 230.56      ,\n",
       "       142.985     , 141.46      , 137.42      ,  59.555     ,\n",
       "       118.5       , 197.14398224, 270.57      , 193.835     ,\n",
       "        75.105     ,  68.9       ,  83.51      ,  89.905     ,\n",
       "       129.67      ,  95.66      , 192.66      , 184.475     ,\n",
       "       454.415     , 226.105     ,  95.665     , 141.94      ,\n",
       "       276.745     ,  71.165     , 119.98      ,  60.88      ,\n",
       "       185.39      , 242.08398224,  69.58      ,  52.14      ,\n",
       "        76.14      , 155.74398224,  84.145     ,  56.57      ,\n",
       "       117.605     ,  75.87      , 108.87694672,  60.67      ,\n",
       "       122.225     , 187.7       , 148.535     ,  66.15      ,\n",
       "       123.345     , 136.505     ,  59.215     , 111.66      ,\n",
       "       151.045     , 271.645     , 129.36      , 143.305     ,\n",
       "       106.105     , 179.335     , 145.86      , 125.055     ,\n",
       "        75.685     , 173.115     ,  73.56      , 108.565     ,\n",
       "        74.53      , 660.195     , 209.25      , 307.645     ,\n",
       "       141.73      , 139.28796448, 238.375     , 152.6049112 ,\n",
       "        77.535     , 252.78      ,  88.795     , 185.68287568,\n",
       "       103.185     , 153.29796448,  61.53      ,  28.5       ,\n",
       "       120.16      , 287.62      , 119.815     , 163.18898224,\n",
       "       164.48296448, 131.25      ,  96.235     , 149.21694672,\n",
       "       135.515     ,  18.645     , 229.20898224, 399.195     ,\n",
       "       148.955     , 356.86      , 218.095     , 227.16      ,\n",
       "       164.06898224,  60.84      , 257.135     , 165.575     ,\n",
       "        87.85      , 137.275     ,  95.27      ,  72.22      ,\n",
       "        36.435     , 353.64      , 254.365     , 132.49      ,\n",
       "       254.485     , 203.215     , 119.56      , 129.965     ,\n",
       "       191.975     , 104.585     , 141.97296448, 449.565     ,\n",
       "        95.535     ,  83.445     , 396.62      ,  73.18      ,\n",
       "       121.09      , 161.81398224, 140.21      , 157.78318306,\n",
       "       284.645     , 275.78      ,  50.135     ,  82.545     ,\n",
       "       112.9       , 212.04      , 194.94398224,  61.465     ,\n",
       "       255.12      ,  64.51      , 127.88      , 135.12      ,\n",
       "       184.72      ,  65.13      , 241.015     , 321.505     ,\n",
       "       216.905     , 231.75796448, 266.46      , 412.095     ,\n",
       "       117.13      ])"
      ]
     },
     "execution_count": 482,
     "metadata": {},
     "output_type": "execute_result"
    }
   ],
   "source": [
    "rfr.predict(x_test)"
   ]
  },
  {
   "cell_type": "code",
   "execution_count": 483,
   "metadata": {},
   "outputs": [],
   "source": [
    "from sklearn.metrics import explained_variance_score, r2_score"
   ]
  },
  {
   "cell_type": "code",
   "execution_count": 484,
   "metadata": {},
   "outputs": [
    {
     "name": "stdout",
     "output_type": "stream",
     "text": [
      "0.6321323583628748\n",
      "-0.0026180919982512485\n"
     ]
    }
   ],
   "source": [
    "print(explained_variance_score(y_test, rfr.predict(x_test)))\n",
    "print(explained_variance_score(y_test, ada.predict(x_test)))"
   ]
  },
  {
   "cell_type": "code",
   "execution_count": 485,
   "metadata": {},
   "outputs": [
    {
     "name": "stdout",
     "output_type": "stream",
     "text": [
      "0.6321101108423076\n",
      "0.6321101108423076\n"
     ]
    }
   ],
   "source": [
    "print(r2_score(y_test, rfr.predict(x_test)))\n",
    "print(r2_score(y_test, rfr.predict(x_test)))"
   ]
  },
  {
   "cell_type": "code",
   "execution_count": null,
   "metadata": {},
   "outputs": [],
   "source": []
  }
 ],
 "metadata": {
  "kernelspec": {
   "display_name": "Python 3",
   "language": "python",
   "name": "python3"
  },
  "language_info": {
   "codemirror_mode": {
    "name": "ipython",
    "version": 3
   },
   "file_extension": ".py",
   "mimetype": "text/x-python",
   "name": "python",
   "nbconvert_exporter": "python",
   "pygments_lexer": "ipython3",
   "version": "3.6.10"
  }
 },
 "nbformat": 4,
 "nbformat_minor": 4
}
