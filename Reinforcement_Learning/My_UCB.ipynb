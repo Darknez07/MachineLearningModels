{
 "cells": [
  {
   "cell_type": "markdown",
   "metadata": {
    "colab_type": "text",
    "id": "QJdrJJQUv3-k"
   },
   "source": [
    "# Upper Confidence Bound (UCB)"
   ]
  },
  {
   "cell_type": "markdown",
   "metadata": {
    "colab_type": "text",
    "id": "2XCjepjJwEv-"
   },
   "source": [
    "## Importing the libraries"
   ]
  },
  {
   "cell_type": "code",
   "execution_count": 1,
   "metadata": {},
   "outputs": [],
   "source": [
    "import math\n",
    "import numpy as np\n",
    "import pandas as pd\n",
    "import matplotlib.pyplot as plt"
   ]
  },
  {
   "cell_type": "markdown",
   "metadata": {
    "colab_type": "text",
    "id": "npqlXjaNwYTv"
   },
   "source": [
    "## Importing the dataset"
   ]
  },
  {
   "cell_type": "code",
   "execution_count": 2,
   "metadata": {},
   "outputs": [],
   "source": [
    "data = pd.read_csv('Ads_CTR_Optimisation.csv')"
   ]
  },
  {
   "cell_type": "markdown",
   "metadata": {
    "colab_type": "text",
    "id": "PaSbots_wfoB"
   },
   "source": [
    "## Implementing UCB"
   ]
  },
  {
   "cell_type": "code",
   "execution_count": 3,
   "metadata": {},
   "outputs": [
    {
     "data": {
      "text/plain": [
       "4"
      ]
     },
     "execution_count": 3,
     "metadata": {},
     "output_type": "execute_result"
    }
   ],
   "source": [
    "bounds = np.zeros((10,2),dtype = int)\n",
    "bounds[2,1] = 4\n",
    "bounds[:, 1].max()"
   ]
  },
  {
   "cell_type": "code",
   "execution_count": 58,
   "metadata": {},
   "outputs": [],
   "source": [
    "# Here is the value of N the rounds\n",
    "N = 542\n",
    "# The number of Distributions\n",
    "d = 10\n",
    "# The array of the Number of times ad is selected\n",
    "Nn = [0]* d\n",
    "# The array of sum of rewards given to selected ad\n",
    "Rn = [0]* d\n",
    "# Which ad was selected in each round\n",
    "selected = []\n",
    "# The upper and lower bound array of bounding box\n",
    "bounds = np.zeros((d,2))\n",
    "#The total number of rewards given\n",
    "total_R = 0\n",
    "# The loop for taking rounds\n",
    "for n in range(N):\n",
    "    # Making max upper bound as 0\n",
    "    # The reason of upper bound as 0 as to make the sane comparison\n",
    "    # as the Bounds tend to descrease with itration\n",
    "    max_up = 0\n",
    "    # Selecting the first ad\n",
    "    ad = 0\n",
    "    for i in range(d):\n",
    "        # Checking the Number of times ad is selected is greater than 0\n",
    "        if Nn[i] > 0:\n",
    "            # Calculating average reward\n",
    "            avg_rw = Rn[i]/Nn[i]\n",
    "            # The delta i or the boundry var\n",
    "            deltai = math.sqrt(1.5*(math.log(n + 1)/Nn[i]))\n",
    "            # Specifying the boundary of each ad\n",
    "            # Also update each boundary with the conf interval\n",
    "            bounds[i][0] = avg_rw - deltai\n",
    "            bounds[i][1] = avg_rw + deltai\n",
    "        else:\n",
    "            # Making upper bound inf so that there will be no problems as computing\n",
    "            # To intialize as inf we provide a bound as to maximum for unselected or \n",
    "            # Never visited person\n",
    "            bounds[i][1] = 1e400\n",
    "        # Most important part is to make the upper bound and select the right ad\n",
    "        if max_up < bounds[i][1]:\n",
    "            max_up = bounds[i][1]\n",
    "            ad = i\n",
    "    selected.append(ad)\n",
    "    Nn[ad] = Nn[ad] + 1\n",
    "    # Giving the reward to each of sucessful task\n",
    "    Rn[ad] = Rn[ad] + data.values[n,ad]\n",
    "    # The total rewards given totally\n",
    "    total_R = total_R + data.values[n, ad]"
   ]
  },
  {
   "cell_type": "markdown",
   "metadata": {
    "colab_type": "text",
    "id": "AXftWcjDwsYj"
   },
   "source": [
    "## Visualising the results"
   ]
  },
  {
   "cell_type": "code",
   "execution_count": 59,
   "metadata": {},
   "outputs": [
    {
     "data": {
      "image/png": "[encoded data removed]",
      "text/plain": [
       "<Figure size 432x288 with 1 Axes>"
      ]
     },
     "metadata": {
      "needs_background": "light"
     },
     "output_type": "display_data"
    }
   ],
   "source": [
    "plt.hist(selected)\n",
    "plt.title('The ad flow')\n",
    "plt.xlabel('The Ad Number')\n",
    "plt.ylabel('The count')\n",
    "plt.show()"
   ]
  },
  {
   "cell_type": "code",
   "execution_count": 60,
   "metadata": {},
   "outputs": [
    {
     "data": {
      "text/plain": [
       "4"
      ]
     },
     "execution_count": 60,
     "metadata": {},
     "output_type": "execute_result"
    }
   ],
   "source": [
    "Rn.index(max(Rn))"
   ]
  },
  {
   "cell_type": "code",
   "execution_count": 61,
   "metadata": {},
   "outputs": [],
   "source": [
    "df = pd.DataFrame(bounds)\n",
    "df['index'] = df.index"
   ]
  },
  {
   "cell_type": "code",
   "execution_count": 62,
   "metadata": {},
   "outputs": [
    {
     "data": {
      "image/png": "[encoded data removed]",
      "text/plain": [
       "<Figure size 720x576 with 1 Axes>"
      ]
     },
     "metadata": {
      "needs_background": "light"
     },
     "output_type": "display_data"
    }
   ],
   "source": [
    "fig, ax = plt.subplots(figsize=(10,8))\n",
    "df.boxplot(column=[0],by='index',ax= ax)\n",
    "df.boxplot(column=[1],by='index',ax= ax)\n",
    "plt.show()"
   ]
  },
  {
   "cell_type": "code",
   "execution_count": 63,
   "metadata": {},
   "outputs": [
    {
     "data": {
      "text/plain": [
       "[62, 56, 37, 40, 89, 33, 56, 85, 47, 37]"
      ]
     },
     "execution_count": 63,
     "metadata": {},
     "output_type": "execute_result"
    }
   ],
   "source": [
    "Nn"
   ]
  },
  {
   "cell_type": "code",
   "execution_count": null,
   "metadata": {},
   "outputs": [],
   "source": []
  }
 ],
 "metadata": {
  "colab": {
   "authorship_tag": "ABX9TyMz+roSgJuEsprRsPKmwoVD",
   "collapsed_sections": [],
   "name": "Upper Confidence Bound",
   "provenance": [],
   "toc_visible": true
  },
  "kernelspec": {
   "display_name": "Python 3",
   "language": "python",
   "name": "python3"
  },
  "language_info": {
   "codemirror_mode": {
    "name": "ipython",
    "version": 3
   },
   "file_extension": ".py",
   "mimetype": "text/x-python",
   "name": "python",
   "nbconvert_exporter": "python",
   "pygments_lexer": "ipython3",
   "version": "3.7.6"
  }
 },
 "nbformat": 4,
 "nbformat_minor": 1
}
